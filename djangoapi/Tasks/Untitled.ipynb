{
 "cells": [
  {
   "cell_type": "code",
   "execution_count": 2,
   "id": "18e254cb",
   "metadata": {},
   "outputs": [],
   "source": [
    "import pandas as pd"
   ]
  },
  {
   "cell_type": "code",
   "execution_count": 3,
   "id": "8fee20ad",
   "metadata": {},
   "outputs": [],
   "source": [
    "df = pd.read_json(\"code-list_json.json\", lines=False).head(5)"
   ]
  },
  {
   "cell_type": "code",
   "execution_count": 4,
   "id": "be13bee9",
   "metadata": {},
   "outputs": [],
   "source": [
    "dct = pd.read_json(\"code-list_json.json\", lines=False)['Function'].head(5).to_dict()"
   ]
  },
  {
   "cell_type": "code",
   "execution_count": 6,
   "id": "51dd645e",
   "metadata": {},
   "outputs": [],
   "source": [
    "collections = []\n",
    "for key, value in dct.items():\n",
    "    collections.append(list(value))\n",
    "    \n",
    "df2 = pd.DataFrame(data=collections, columns=[1,2,3,4,5,6,7,8])"
   ]
  },
  {
   "cell_type": "code",
   "execution_count": 8,
   "id": "53e81d5f",
   "metadata": {},
   "outputs": [
    {
     "data": {
      "text/plain": [
       "[['-', '-', '3', '4', '-', '6', '-', '-'],\n",
       " ['-', '-', '3', '-', '-', '-', '-', '-'],\n",
       " ['-', '-', '3', '-', '-', '-', '-', '-'],\n",
       " ['-', '-', '3', '-', '-', '-', '-', '-'],\n",
       " ['-', '-', '3', '-', '-', '-', '-', '-']]"
      ]
     },
     "execution_count": 8,
     "metadata": {},
     "output_type": "execute_result"
    }
   ],
   "source": [
    "collections"
   ]
  },
  {
   "cell_type": "code",
   "execution_count": 16,
   "id": "bbcb6daa",
   "metadata": {},
   "outputs": [],
   "source": [
    "# convert into dataframe\n",
    "df2 = pd.DataFrame(data=collections, columns=[1,2,3,4,5,6,7,8])"
   ]
  },
  {
   "cell_type": "code",
   "execution_count": 17,
   "id": "fad00279",
   "metadata": {},
   "outputs": [
    {
     "data": {
      "text/html": [
       "<div>\n",
       "<style scoped>\n",
       "    .dataframe tbody tr th:only-of-type {\n",
       "        vertical-align: middle;\n",
       "    }\n",
       "\n",
       "    .dataframe tbody tr th {\n",
       "        vertical-align: top;\n",
       "    }\n",
       "\n",
       "    .dataframe thead th {\n",
       "        text-align: right;\n",
       "    }\n",
       "</style>\n",
       "<table border=\"1\" class=\"dataframe\">\n",
       "  <thead>\n",
       "    <tr style=\"text-align: right;\">\n",
       "      <th></th>\n",
       "      <th>1</th>\n",
       "      <th>2</th>\n",
       "      <th>3</th>\n",
       "      <th>4</th>\n",
       "      <th>5</th>\n",
       "      <th>6</th>\n",
       "      <th>7</th>\n",
       "      <th>8</th>\n",
       "    </tr>\n",
       "  </thead>\n",
       "  <tbody>\n",
       "    <tr>\n",
       "      <th>0</th>\n",
       "      <td>-</td>\n",
       "      <td>-</td>\n",
       "      <td>3</td>\n",
       "      <td>4</td>\n",
       "      <td>-</td>\n",
       "      <td>6</td>\n",
       "      <td>-</td>\n",
       "      <td>-</td>\n",
       "    </tr>\n",
       "    <tr>\n",
       "      <th>1</th>\n",
       "      <td>-</td>\n",
       "      <td>-</td>\n",
       "      <td>3</td>\n",
       "      <td>-</td>\n",
       "      <td>-</td>\n",
       "      <td>-</td>\n",
       "      <td>-</td>\n",
       "      <td>-</td>\n",
       "    </tr>\n",
       "    <tr>\n",
       "      <th>2</th>\n",
       "      <td>-</td>\n",
       "      <td>-</td>\n",
       "      <td>3</td>\n",
       "      <td>-</td>\n",
       "      <td>-</td>\n",
       "      <td>-</td>\n",
       "      <td>-</td>\n",
       "      <td>-</td>\n",
       "    </tr>\n",
       "    <tr>\n",
       "      <th>3</th>\n",
       "      <td>-</td>\n",
       "      <td>-</td>\n",
       "      <td>3</td>\n",
       "      <td>-</td>\n",
       "      <td>-</td>\n",
       "      <td>-</td>\n",
       "      <td>-</td>\n",
       "      <td>-</td>\n",
       "    </tr>\n",
       "    <tr>\n",
       "      <th>4</th>\n",
       "      <td>-</td>\n",
       "      <td>-</td>\n",
       "      <td>3</td>\n",
       "      <td>-</td>\n",
       "      <td>-</td>\n",
       "      <td>-</td>\n",
       "      <td>-</td>\n",
       "      <td>-</td>\n",
       "    </tr>\n",
       "  </tbody>\n",
       "</table>\n",
       "</div>"
      ],
      "text/plain": [
       "   1  2  3  4  5  6  7  8\n",
       "0  -  -  3  4  -  6  -  -\n",
       "1  -  -  3  -  -  -  -  -\n",
       "2  -  -  3  -  -  -  -  -\n",
       "3  -  -  3  -  -  -  -  -\n",
       "4  -  -  3  -  -  -  -  -"
      ]
     },
     "execution_count": 17,
     "metadata": {},
     "output_type": "execute_result"
    }
   ],
   "source": [
    "df2"
   ]
  },
  {
   "cell_type": "code",
   "execution_count": 13,
   "id": "73562a73",
   "metadata": {},
   "outputs": [
    {
     "name": "stdout",
     "output_type": "stream",
     "text": [
      "Merge two dataframe\n",
      "  Change   Coordinates Country                Date  Function  IATA Location  \\\n",
      "0   None  4230N 00131E      AD 1970-01-01 00:10:01  --34-6--  None      ALV   \n",
      "1   None  4234N 00135E      AD 1970-01-01 00:05:07  --3-----  None      CAN   \n",
      "2   None  4232N 00134E      AD 1970-01-01 00:05:07  --3-----  None      ENC   \n",
      "3   None  4231N 00133E      AD 1970-01-01 00:05:07  --3-----  None      ESC   \n",
      "4   None  4233N 00131E      AD 1970-01-01 00:23:27  --3-----  None      EAC   \n",
      "\n",
      "                 Name    NameWoDiacritics Remarks Status Subdivision  1  2  3  \\\n",
      "0    Andorra la Vella    Andorra la Vella    None     AI        None  -  -  3   \n",
      "1             Canillo             Canillo    None     RL        None  -  -  3   \n",
      "2              Encamp              Encamp    None     RL        None  -  -  3   \n",
      "3  Escaldes-Engordany  Escaldes-Engordany    None     RL        None  -  -  3   \n",
      "4               Escàs               Escas    None     RL          04  -  -  3   \n",
      "\n",
      "   4  5  6  7  8  \n",
      "0  4  -  6  -  -  \n",
      "1  -  -  -  -  -  \n",
      "2  -  -  -  -  -  \n",
      "3  -  -  -  -  -  \n",
      "4  -  -  -  -  -  \n"
     ]
    }
   ],
   "source": [
    "print(\"Merge two dataframe\")\n",
    "result = pd.concat([df, df2], axis=1)\n",
    "print(result)"
   ]
  },
  {
   "cell_type": "code",
   "execution_count": null,
   "id": "537b9e7e",
   "metadata": {},
   "outputs": [],
   "source": []
  },
  {
   "cell_type": "code",
   "execution_count": null,
   "id": "b1fc3502",
   "metadata": {},
   "outputs": [],
   "source": []
  }
 ],
 "metadata": {
  "kernelspec": {
   "display_name": "Python 3",
   "language": "python",
   "name": "python3"
  },
  "language_info": {
   "codemirror_mode": {
    "name": "ipython",
    "version": 3
   },
   "file_extension": ".py",
   "mimetype": "text/x-python",
   "name": "python",
   "nbconvert_exporter": "python",
   "pygments_lexer": "ipython3",
   "version": "3.8.10"
  }
 },
 "nbformat": 4,
 "nbformat_minor": 5
}
