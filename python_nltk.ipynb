{
 "cells": [
  {
   "cell_type": "code",
   "execution_count": 1,
   "id": "minute-battlefield",
   "metadata": {},
   "outputs": [
    {
     "data": {
      "text/plain": [
       "['The', 'Fulton', 'County', 'Grand', 'Jury', 'said', ...]"
      ]
     },
     "execution_count": 1,
     "metadata": {},
     "output_type": "execute_result"
    }
   ],
   "source": [
    "from nltk.corpus import brown\n",
    "brown.words()"
   ]
  },
  {
   "cell_type": "code",
   "execution_count": 6,
   "id": "miniature-corpus",
   "metadata": {},
   "outputs": [],
   "source": [
    "from nltk.tokenize import sent_tokenize, word_tokenize\n"
   ]
  },
  {
   "cell_type": "code",
   "execution_count": 13,
   "id": "centered-audio",
   "metadata": {},
   "outputs": [],
   "source": [
    "sentence = \"Python is a most popular general-purpose programming langauge.Python is used in various software domains.Python used in web development, Machine learning, Data science, Desktop applications, etc\""
   ]
  },
  {
   "cell_type": "code",
   "execution_count": 14,
   "id": "proved-heath",
   "metadata": {},
   "outputs": [
    {
     "data": {
      "text/plain": [
       "'Python is a most popular general-purpose programming langauge.Python is used in various software domains.Python used in web development, Machine learning, Data science, Desktop applications, etc'"
      ]
     },
     "execution_count": 14,
     "metadata": {},
     "output_type": "execute_result"
    }
   ],
   "source": [
    "sentence"
   ]
  },
  {
   "cell_type": "code",
   "execution_count": 15,
   "id": "opening-heather",
   "metadata": {},
   "outputs": [
    {
     "data": {
      "text/plain": [
       "['Python is a most popular general-purpose programming langauge.Python is used in various software domains.Python used in web development, Machine learning, Data science, Desktop applications, etc']"
      ]
     },
     "execution_count": 15,
     "metadata": {},
     "output_type": "execute_result"
    }
   ],
   "source": [
    "sent_tokenize(sentence)"
   ]
  },
  {
   "cell_type": "code",
   "execution_count": 16,
   "id": "numerical-upgrade",
   "metadata": {},
   "outputs": [
    {
     "data": {
      "text/plain": [
       "['Python',\n",
       " 'is',\n",
       " 'a',\n",
       " 'most',\n",
       " 'popular',\n",
       " 'general-purpose',\n",
       " 'programming',\n",
       " 'langauge.Python',\n",
       " 'is',\n",
       " 'used',\n",
       " 'in',\n",
       " 'various',\n",
       " 'software',\n",
       " 'domains.Python',\n",
       " 'used',\n",
       " 'in',\n",
       " 'web',\n",
       " 'development',\n",
       " ',',\n",
       " 'Machine',\n",
       " 'learning',\n",
       " ',',\n",
       " 'Data',\n",
       " 'science',\n",
       " ',',\n",
       " 'Desktop',\n",
       " 'applications',\n",
       " ',',\n",
       " 'etc']"
      ]
     },
     "execution_count": 16,
     "metadata": {},
     "output_type": "execute_result"
    }
   ],
   "source": [
    "word_tokenize(sentence)"
   ]
  },
  {
   "cell_type": "code",
   "execution_count": 17,
   "id": "promotional-owner",
   "metadata": {},
   "outputs": [],
   "source": [
    "from nltk.tokenize import TreebankWordTokenizer\n"
   ]
  },
  {
   "cell_type": "code",
   "execution_count": 19,
   "id": "essential-superior",
   "metadata": {},
   "outputs": [
    {
     "data": {
      "text/plain": [
       "['Python',\n",
       " 'is',\n",
       " 'a',\n",
       " 'most',\n",
       " 'popular',\n",
       " 'general-purpose',\n",
       " 'programming',\n",
       " 'langauge.Python',\n",
       " 'is',\n",
       " 'used',\n",
       " 'in',\n",
       " 'various',\n",
       " 'software',\n",
       " 'domains.Python',\n",
       " 'used',\n",
       " 'in',\n",
       " 'web',\n",
       " 'development',\n",
       " ',',\n",
       " 'Machine',\n",
       " 'learning',\n",
       " ',',\n",
       " 'Data',\n",
       " 'science',\n",
       " ',',\n",
       " 'Desktop',\n",
       " 'applications',\n",
       " ',',\n",
       " 'etc']"
      ]
     },
     "execution_count": 19,
     "metadata": {},
     "output_type": "execute_result"
    }
   ],
   "source": [
    "tokenize_word = TreebankWordTokenizer()\n",
    "tokenize_word.tokenize(sentence)"
   ]
  },
  {
   "cell_type": "code",
   "execution_count": null,
   "id": "radical-rates",
   "metadata": {},
   "outputs": [],
   "source": []
  }
 ],
 "metadata": {
  "kernelspec": {
   "display_name": "Python 3",
   "language": "python",
   "name": "python3"
  },
  "language_info": {
   "codemirror_mode": {
    "name": "ipython",
    "version": 3
   },
   "file_extension": ".py",
   "mimetype": "text/x-python",
   "name": "python",
   "nbconvert_exporter": "python",
   "pygments_lexer": "ipython3",
   "version": "3.8.5"
  }
 },
 "nbformat": 4,
 "nbformat_minor": 5
}
