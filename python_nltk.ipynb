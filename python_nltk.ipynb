{
 "cells": [
  {
   "cell_type": "code",
   "execution_count": 3,
   "id": "minute-battlefield",
   "metadata": {},
   "outputs": [
    {
     "data": {
      "text/plain": [
       "['The', 'Fulton', 'County', 'Grand', 'Jury', 'said', ...]"
      ]
     },
     "execution_count": 3,
     "metadata": {},
     "output_type": "execute_result"
    }
   ],
   "source": [
    "from nltk.corpus import brown\n",
    "brown.words()"
   ]
  },
  {
   "cell_type": "code",
   "execution_count": 4,
   "id": "miniature-corpus",
   "metadata": {},
   "outputs": [],
   "source": [
    "from nltk.tokenize import sent_tokenize, word_tokenize\n"
   ]
  },
  {
   "cell_type": "code",
   "execution_count": 5,
   "id": "centered-audio",
   "metadata": {},
   "outputs": [],
   "source": [
    "sentence = \"Python is a most popular general-purpose programming langauge.Python is used in various software domains.Python used in web development, Machine learning, Data science, Desktop applications, etc\""
   ]
  },
  {
   "cell_type": "code",
   "execution_count": 6,
   "id": "proved-heath",
   "metadata": {},
   "outputs": [
    {
     "data": {
      "text/plain": [
       "'Python is a most popular general-purpose programming langauge.Python is used in various software domains.Python used in web development, Machine learning, Data science, Desktop applications, etc'"
      ]
     },
     "execution_count": 6,
     "metadata": {},
     "output_type": "execute_result"
    }
   ],
   "source": [
    "sentence"
   ]
  },
  {
   "cell_type": "code",
   "execution_count": 7,
   "id": "opening-heather",
   "metadata": {},
   "outputs": [
    {
     "data": {
      "text/plain": [
       "['Python is a most popular general-purpose programming langauge.Python is used in various software domains.Python used in web development, Machine learning, Data science, Desktop applications, etc']"
      ]
     },
     "execution_count": 7,
     "metadata": {},
     "output_type": "execute_result"
    }
   ],
   "source": [
    "sent_tokenize(sentence)"
   ]
  },
  {
   "cell_type": "code",
   "execution_count": 8,
   "id": "numerical-upgrade",
   "metadata": {},
   "outputs": [
    {
     "data": {
      "text/plain": [
       "['Python',\n",
       " 'is',\n",
       " 'a',\n",
       " 'most',\n",
       " 'popular',\n",
       " 'general-purpose',\n",
       " 'programming',\n",
       " 'langauge.Python',\n",
       " 'is',\n",
       " 'used',\n",
       " 'in',\n",
       " 'various',\n",
       " 'software',\n",
       " 'domains.Python',\n",
       " 'used',\n",
       " 'in',\n",
       " 'web',\n",
       " 'development',\n",
       " ',',\n",
       " 'Machine',\n",
       " 'learning',\n",
       " ',',\n",
       " 'Data',\n",
       " 'science',\n",
       " ',',\n",
       " 'Desktop',\n",
       " 'applications',\n",
       " ',',\n",
       " 'etc']"
      ]
     },
     "execution_count": 8,
     "metadata": {},
     "output_type": "execute_result"
    }
   ],
   "source": [
    "word_tokenize(sentence)"
   ]
  },
  {
   "cell_type": "code",
   "execution_count": 9,
   "id": "promotional-owner",
   "metadata": {},
   "outputs": [],
   "source": [
    "from nltk.tokenize import TreebankWordTokenizer\n"
   ]
  },
  {
   "cell_type": "code",
   "execution_count": 10,
   "id": "essential-superior",
   "metadata": {},
   "outputs": [
    {
     "data": {
      "text/plain": [
       "['Python',\n",
       " 'is',\n",
       " 'a',\n",
       " 'most',\n",
       " 'popular',\n",
       " 'general-purpose',\n",
       " 'programming',\n",
       " 'langauge.Python',\n",
       " 'is',\n",
       " 'used',\n",
       " 'in',\n",
       " 'various',\n",
       " 'software',\n",
       " 'domains.Python',\n",
       " 'used',\n",
       " 'in',\n",
       " 'web',\n",
       " 'development',\n",
       " ',',\n",
       " 'Machine',\n",
       " 'learning',\n",
       " ',',\n",
       " 'Data',\n",
       " 'science',\n",
       " ',',\n",
       " 'Desktop',\n",
       " 'applications',\n",
       " ',',\n",
       " 'etc']"
      ]
     },
     "execution_count": 10,
     "metadata": {},
     "output_type": "execute_result"
    }
   ],
   "source": [
    "tokenize_word = TreebankWordTokenizer()\n",
    "words_tokenize = tokenize_word.tokenize(sentence)\n",
    "words_tokenize"
   ]
  },
  {
   "cell_type": "code",
   "execution_count": 11,
   "id": "radical-rates",
   "metadata": {},
   "outputs": [
    {
     "data": {
      "text/plain": [
       "['Python',\n",
       " 'is',\n",
       " 'a',\n",
       " 'most',\n",
       " 'popular',\n",
       " 'general',\n",
       " '-',\n",
       " 'purpose',\n",
       " 'programming',\n",
       " 'langauge',\n",
       " '.',\n",
       " 'Python',\n",
       " 'is',\n",
       " 'used',\n",
       " 'in',\n",
       " 'various',\n",
       " 'software',\n",
       " 'domains',\n",
       " '.',\n",
       " 'Python',\n",
       " 'used',\n",
       " 'in',\n",
       " 'web',\n",
       " 'development',\n",
       " ',',\n",
       " 'Machine',\n",
       " 'learning',\n",
       " ',',\n",
       " 'Data',\n",
       " 'science',\n",
       " ',',\n",
       " 'Desktop',\n",
       " 'applications',\n",
       " ',',\n",
       " 'etc']"
      ]
     },
     "execution_count": 11,
     "metadata": {},
     "output_type": "execute_result"
    }
   ],
   "source": [
    "from nltk.tokenize import WordPunctTokenizer\n",
    "tokenize = WordPunctTokenizer()\n",
    "tokenize.tokenize(sentence)"
   ]
  },
  {
   "cell_type": "code",
   "execution_count": 12,
   "id": "abroad-waste",
   "metadata": {},
   "outputs": [
    {
     "data": {
      "text/plain": [
       "['i',\n",
       " 'me',\n",
       " 'my',\n",
       " 'myself',\n",
       " 'we',\n",
       " 'our',\n",
       " 'ours',\n",
       " 'ourselves',\n",
       " 'you',\n",
       " \"you're\",\n",
       " \"you've\",\n",
       " \"you'll\",\n",
       " \"you'd\",\n",
       " 'your',\n",
       " 'yours',\n",
       " 'yourself',\n",
       " 'yourselves',\n",
       " 'he',\n",
       " 'him',\n",
       " 'his',\n",
       " 'himself',\n",
       " 'she',\n",
       " \"she's\",\n",
       " 'her',\n",
       " 'hers',\n",
       " 'herself',\n",
       " 'it',\n",
       " \"it's\",\n",
       " 'its',\n",
       " 'itself',\n",
       " 'they',\n",
       " 'them',\n",
       " 'their',\n",
       " 'theirs',\n",
       " 'themselves',\n",
       " 'what',\n",
       " 'which',\n",
       " 'who',\n",
       " 'whom',\n",
       " 'this',\n",
       " 'that',\n",
       " \"that'll\",\n",
       " 'these',\n",
       " 'those',\n",
       " 'am',\n",
       " 'is',\n",
       " 'are',\n",
       " 'was',\n",
       " 'were',\n",
       " 'be',\n",
       " 'been',\n",
       " 'being',\n",
       " 'have',\n",
       " 'has',\n",
       " 'had',\n",
       " 'having',\n",
       " 'do',\n",
       " 'does',\n",
       " 'did',\n",
       " 'doing',\n",
       " 'a',\n",
       " 'an',\n",
       " 'the',\n",
       " 'and',\n",
       " 'but',\n",
       " 'if',\n",
       " 'or',\n",
       " 'because',\n",
       " 'as',\n",
       " 'until',\n",
       " 'while',\n",
       " 'of',\n",
       " 'at',\n",
       " 'by',\n",
       " 'for',\n",
       " 'with',\n",
       " 'about',\n",
       " 'against',\n",
       " 'between',\n",
       " 'into',\n",
       " 'through',\n",
       " 'during',\n",
       " 'before',\n",
       " 'after',\n",
       " 'above',\n",
       " 'below',\n",
       " 'to',\n",
       " 'from',\n",
       " 'up',\n",
       " 'down',\n",
       " 'in',\n",
       " 'out',\n",
       " 'on',\n",
       " 'off',\n",
       " 'over',\n",
       " 'under',\n",
       " 'again',\n",
       " 'further',\n",
       " 'then',\n",
       " 'once',\n",
       " 'here',\n",
       " 'there',\n",
       " 'when',\n",
       " 'where',\n",
       " 'why',\n",
       " 'how',\n",
       " 'all',\n",
       " 'any',\n",
       " 'both',\n",
       " 'each',\n",
       " 'few',\n",
       " 'more',\n",
       " 'most',\n",
       " 'other',\n",
       " 'some',\n",
       " 'such',\n",
       " 'no',\n",
       " 'nor',\n",
       " 'not',\n",
       " 'only',\n",
       " 'own',\n",
       " 'same',\n",
       " 'so',\n",
       " 'than',\n",
       " 'too',\n",
       " 'very',\n",
       " 's',\n",
       " 't',\n",
       " 'can',\n",
       " 'will',\n",
       " 'just',\n",
       " 'don',\n",
       " \"don't\",\n",
       " 'should',\n",
       " \"should've\",\n",
       " 'now',\n",
       " 'd',\n",
       " 'll',\n",
       " 'm',\n",
       " 'o',\n",
       " 're',\n",
       " 've',\n",
       " 'y',\n",
       " 'ain',\n",
       " 'aren',\n",
       " \"aren't\",\n",
       " 'couldn',\n",
       " \"couldn't\",\n",
       " 'didn',\n",
       " \"didn't\",\n",
       " 'doesn',\n",
       " \"doesn't\",\n",
       " 'hadn',\n",
       " \"hadn't\",\n",
       " 'hasn',\n",
       " \"hasn't\",\n",
       " 'haven',\n",
       " \"haven't\",\n",
       " 'isn',\n",
       " \"isn't\",\n",
       " 'ma',\n",
       " 'mightn',\n",
       " \"mightn't\",\n",
       " 'mustn',\n",
       " \"mustn't\",\n",
       " 'needn',\n",
       " \"needn't\",\n",
       " 'shan',\n",
       " \"shan't\",\n",
       " 'shouldn',\n",
       " \"shouldn't\",\n",
       " 'wasn',\n",
       " \"wasn't\",\n",
       " 'weren',\n",
       " \"weren't\",\n",
       " 'won',\n",
       " \"won't\",\n",
       " 'wouldn',\n",
       " \"wouldn't\"]"
      ]
     },
     "execution_count": 12,
     "metadata": {},
     "output_type": "execute_result"
    }
   ],
   "source": [
    "from nltk.corpus import stopwords\n",
    "stop_words = list(stopwords.words(\"english\"))\n",
    "stop_words"
   ]
  },
  {
   "cell_type": "code",
   "execution_count": 13,
   "id": "aggregate-simple",
   "metadata": {
    "scrolled": true
   },
   "outputs": [
    {
     "data": {
      "text/plain": [
       "['Python',\n",
       " 'popular',\n",
       " 'general-purpose',\n",
       " 'programming',\n",
       " 'langauge.Python',\n",
       " 'used',\n",
       " 'various',\n",
       " 'software',\n",
       " 'domains.Python',\n",
       " 'used',\n",
       " 'web',\n",
       " 'development',\n",
       " ',',\n",
       " 'Machine',\n",
       " 'learning',\n",
       " ',',\n",
       " 'Data',\n",
       " 'science',\n",
       " ',',\n",
       " 'Desktop',\n",
       " 'applications',\n",
       " ',',\n",
       " 'etc']"
      ]
     },
     "execution_count": 13,
     "metadata": {},
     "output_type": "execute_result"
    }
   ],
   "source": [
    "#remove all the stopwords from the words_tokenize list\n",
    "[sw for sw in words_tokenize if sw not in stop_words]"
   ]
  },
  {
   "cell_type": "code",
   "execution_count": 14,
   "id": "optical-flesh",
   "metadata": {},
   "outputs": [
    {
     "data": {
      "text/plain": [
       "['arabic',\n",
       " 'azerbaijani',\n",
       " 'danish',\n",
       " 'dutch',\n",
       " 'english',\n",
       " 'finnish',\n",
       " 'french',\n",
       " 'german',\n",
       " 'greek',\n",
       " 'hungarian',\n",
       " 'indonesian',\n",
       " 'italian',\n",
       " 'kazakh',\n",
       " 'nepali',\n",
       " 'norwegian',\n",
       " 'portuguese',\n",
       " 'romanian',\n",
       " 'russian',\n",
       " 'slovene',\n",
       " 'spanish',\n",
       " 'swedish',\n",
       " 'tajik',\n",
       " 'turkish']"
      ]
     },
     "execution_count": 14,
     "metadata": {},
     "output_type": "execute_result"
    }
   ],
   "source": [
    "#finding list of supported langauge\n",
    "stopwords.fileids()"
   ]
  },
  {
   "cell_type": "code",
   "execution_count": 15,
   "id": "enormous-jewelry",
   "metadata": {},
   "outputs": [
    {
     "data": {
      "text/plain": [
       "Synset('dog.n.01')"
      ]
     },
     "execution_count": 15,
     "metadata": {},
     "output_type": "execute_result"
    }
   ],
   "source": [
    "#wordnet:- Wordnet is alrge lexical database of english.Wordnet is part of nltk corpus.\n",
    "from nltk.corpus import wordnet as wn\n",
    "syn = wn.synsets('dog')\n",
    "syn[0]\n"
   ]
  },
  {
   "cell_type": "code",
   "execution_count": 16,
   "id": "falling-tampa",
   "metadata": {},
   "outputs": [
    {
     "data": {
      "text/plain": [
       "'a member of the genus Canis (probably descended from the common wolf) that has been domesticated by man since prehistoric times; occurs in many breeds'"
      ]
     },
     "execution_count": 16,
     "metadata": {},
     "output_type": "execute_result"
    }
   ],
   "source": [
    "#definition() - definition() method is used to give the definition about given word.\n",
    "syn[0].definition()"
   ]
  },
  {
   "cell_type": "code",
   "execution_count": 17,
   "id": "patent-infrared",
   "metadata": {},
   "outputs": [
    {
     "data": {
      "text/plain": [
       "'a dull unattractive unpleasant girl or woman'"
      ]
     },
     "execution_count": 17,
     "metadata": {},
     "output_type": "execute_result"
    }
   ],
   "source": [
    "syn[1].definition()"
   ]
  },
  {
   "cell_type": "code",
   "execution_count": 18,
   "id": "lucky-overview",
   "metadata": {},
   "outputs": [
    {
     "data": {
      "text/plain": [
       "['the dog barked all night']"
      ]
     },
     "execution_count": 18,
     "metadata": {},
     "output_type": "execute_result"
    }
   ],
   "source": [
    "#examples - examples() method is used to give the examples about given word.\n",
    "syn[0].examples()"
   ]
  },
  {
   "cell_type": "code",
   "execution_count": 19,
   "id": "continuing-meter",
   "metadata": {},
   "outputs": [],
   "source": [
    "#In simpler terms, a hyponym is in a type-of relationship with its hypernym. \n",
    "#For example: pigeon, crow, eagle, and seagull are all hyponyms of bird,"
   ]
  },
  {
   "cell_type": "code",
   "execution_count": 20,
   "id": "challenging-mistake",
   "metadata": {},
   "outputs": [
    {
     "data": {
      "text/plain": [
       "[Synset('canine.n.02'), Synset('domestic_animal.n.01')]"
      ]
     },
     "execution_count": 20,
     "metadata": {},
     "output_type": "execute_result"
    }
   ],
   "source": [
    "syn[0].hypernyms()"
   ]
  },
  {
   "cell_type": "code",
   "execution_count": 21,
   "id": "gentle-daughter",
   "metadata": {},
   "outputs": [
    {
     "data": {
      "text/plain": [
       "[Synset('bitch.n.04'),\n",
       " Synset('dog.n.01'),\n",
       " Synset('fox.n.01'),\n",
       " Synset('hyena.n.01'),\n",
       " Synset('jackal.n.01'),\n",
       " Synset('wild_dog.n.01'),\n",
       " Synset('wolf.n.01')]"
      ]
     },
     "execution_count": 21,
     "metadata": {},
     "output_type": "execute_result"
    }
   ],
   "source": [
    "syn[0].hypernyms()[0].hyponyms()"
   ]
  },
  {
   "cell_type": "code",
   "execution_count": 22,
   "id": "relevant-gamma",
   "metadata": {},
   "outputs": [
    {
     "data": {
      "text/plain": [
       "'eat'"
      ]
     },
     "execution_count": 22,
     "metadata": {},
     "output_type": "execute_result"
    }
   ],
   "source": [
    "#Stemming:- Stemming is the process of extracting base form of a word by removing affix from them.\n",
    "#For example step word of eaten, eating and eats is eat.\n",
    "from nltk.stem import PorterStemmer\n",
    "word_stemmer = PorterStemmer()\n",
    "word_stemmer.stem(\"eating\")\n"
   ]
  },
  {
   "cell_type": "code",
   "execution_count": 23,
   "id": "union-fence",
   "metadata": {
    "scrolled": true
   },
   "outputs": [
    {
     "data": {
      "text/plain": [
       "'write'"
      ]
     },
     "execution_count": 23,
     "metadata": {},
     "output_type": "execute_result"
    }
   ],
   "source": [
    "word_stemmer.stem(\"writing\")"
   ]
  },
  {
   "cell_type": "code",
   "execution_count": 24,
   "id": "packed-aspect",
   "metadata": {},
   "outputs": [],
   "source": [
    "#LancasterStemmer:- LancasterStemmer algoritm is also used to find out the base form the word by removing the \n",
    "#affix from the word\n"
   ]
  },
  {
   "cell_type": "code",
   "execution_count": 25,
   "id": "seventh-discrimination",
   "metadata": {},
   "outputs": [
    {
     "data": {
      "text/plain": [
       "'eat'"
      ]
     },
     "execution_count": 25,
     "metadata": {},
     "output_type": "execute_result"
    }
   ],
   "source": [
    "from nltk.stem import LancasterStemmer\n",
    "word_stemmer = LancasterStemmer()\n",
    "word_stemmer.stem(\"Eating\")"
   ]
  },
  {
   "cell_type": "code",
   "execution_count": 26,
   "id": "valued-victor",
   "metadata": {},
   "outputs": [
    {
     "data": {
      "text/plain": [
       "'eat'"
      ]
     },
     "execution_count": 26,
     "metadata": {},
     "output_type": "execute_result"
    }
   ],
   "source": [
    "word_stemmer.stem(\"Eats\")"
   ]
  },
  {
   "cell_type": "code",
   "execution_count": 27,
   "id": "found-rhythm",
   "metadata": {},
   "outputs": [
    {
     "data": {
      "text/plain": [
       "'cod'"
      ]
     },
     "execution_count": 27,
     "metadata": {},
     "output_type": "execute_result"
    }
   ],
   "source": [
    "word_stemmer.stem(\"Coding\")"
   ]
  },
  {
   "cell_type": "code",
   "execution_count": 28,
   "id": "average-rings",
   "metadata": {
    "scrolled": true
   },
   "outputs": [
    {
     "data": {
      "text/plain": [
       "'run'"
      ]
     },
     "execution_count": 28,
     "metadata": {},
     "output_type": "execute_result"
    }
   ],
   "source": [
    "word_stemmer.stem(\"running\")"
   ]
  },
  {
   "cell_type": "code",
   "execution_count": 29,
   "id": "higher-ribbon",
   "metadata": {},
   "outputs": [
    {
     "data": {
      "text/plain": [
       "'eat'"
      ]
     },
     "execution_count": 29,
     "metadata": {},
     "output_type": "execute_result"
    }
   ],
   "source": [
    "#SnowballStemmer:- SnowballStemmer is another very important stemming algorithm to find the base form the word.\n",
    "from nltk.stem import SnowballStemmer\n",
    "word_stemmer = SnowballStemmer('english')\n",
    "word_stemmer.stem(\"Eating\")"
   ]
  },
  {
   "cell_type": "code",
   "execution_count": 30,
   "id": "living-first",
   "metadata": {},
   "outputs": [
    {
     "data": {
      "text/plain": [
       "'eating'"
      ]
     },
     "execution_count": 30,
     "metadata": {},
     "output_type": "execute_result"
    }
   ],
   "source": [
    "#Lemmatization:- Lemmatization is just like stemming.Using Lemmatization we will get root word of the given \n",
    "#word instead of getting root stem\n",
    "\n",
    "from nltk.stem import WordNetLemmatizer\n",
    "word_stemmer = WordNetLemmatizer()\n",
    "word_stemmer.lemmatize('eating')\n"
   ]
  },
  {
   "cell_type": "code",
   "execution_count": 31,
   "id": "quarterly-northern",
   "metadata": {},
   "outputs": [
    {
     "data": {
      "text/plain": [
       "'doe'"
      ]
     },
     "execution_count": 31,
     "metadata": {},
     "output_type": "execute_result"
    }
   ],
   "source": [
    "word_stemmer.lemmatize('does')"
   ]
  },
  {
   "cell_type": "code",
   "execution_count": 32,
   "id": "painted-glossary",
   "metadata": {},
   "outputs": [
    {
     "data": {
      "text/plain": [
       "[('My', 'PRP$'), ('name', 'NN'), ('is', 'VBZ'), ('Vishvajit', 'NNP')]"
      ]
     },
     "execution_count": 32,
     "metadata": {},
     "output_type": "execute_result"
    }
   ],
   "source": [
    "# Part of speech (POS):- Tagging, a kind of classification, \n",
    "#is the automatic assignment of the description of the tokens.\n",
    "\n",
    "import nltk\n",
    "from nltk import word_tokenize\n",
    "sentence = \"My name is Vishvajit\"\n",
    "nltk.pos_tag(word_tokenize(sentence))"
   ]
  },
  {
   "cell_type": "code",
   "execution_count": 33,
   "id": "brown-opera",
   "metadata": {},
   "outputs": [],
   "source": [
    "#POS (Part of Speech ) Tagging:- POS tagging is the process of mark up the word in the text format based \n",
    "#on its definition and context.POS tagging is the responsible for reading the text \n",
    "#and assign some specfic token for each of the word.\n",
    "\n",
    "# Chuncking:- Chunking in NLP is process to take small piece of information and group them into large unit.\n",
    "#The resulted group of words are called \"chunks.\" It is also called shallow parsing.\n",
    "\n",
    "# Rules for chunking:-\n",
    "\n"
   ]
  },
  {
   "cell_type": "code",
   "execution_count": 39,
   "id": "athletic-authority",
   "metadata": {},
   "outputs": [
    {
     "name": "stdout",
     "output_type": "stream",
     "text": [
      "['Python', 'is', 'the', 'one', 'of', 'the', 'most', 'popular', 'programming', 'langauge', 'used', 'in', 'various', 'software', 'domains', '.']\n",
      "\n",
      "-------------\n",
      "\n",
      "[('Python', 'NNP'), ('is', 'VBZ'), ('the', 'DT'), ('one', 'NN'), ('of', 'IN'), ('the', 'DT'), ('most', 'RBS'), ('popular', 'JJ'), ('programming', 'NN'), ('langauge', 'NN'), ('used', 'VBN'), ('in', 'IN'), ('various', 'JJ'), ('software', 'NN'), ('domains', 'NNS'), ('.', '.')]\n"
     ]
    }
   ],
   "source": [
    "dummy_text = \"Python is the one of the most popular programming langauge used in various software domains.\"\n",
    "from nltk import word_tokenize, pos_tag\n",
    "#tokenize the text into words\n",
    "words_tokenize = word_tokenize(dummy_text)\n",
    "#print all the tokenized words\n",
    "print(words_tokenize)\n",
    "print(\"\\n-------------\\n\")\n",
    "\n",
    "#Using a Tagger that is called Part of speech\n",
    "tagged = pos_tag(words_tokenize)\n",
    "print(tagged)\n"
   ]
  },
  {
   "cell_type": "code",
   "execution_count": 43,
   "id": "applicable-zimbabwe",
   "metadata": {},
   "outputs": [
    {
     "name": "stdout",
     "output_type": "stream",
     "text": [
      "(S\n",
      "  (GPE Python/NNP)\n",
      "  is/VBZ\n",
      "  the/DT\n",
      "  one/NN\n",
      "  of/IN\n",
      "  the/DT\n",
      "  most/RBS\n",
      "  popular/JJ\n",
      "  programming/NN\n",
      "  langauge/NN\n",
      "  used/VBN\n",
      "  in/IN\n",
      "  various/JJ\n",
      "  software/NN\n",
      "  domains/NNS\n",
      "  ./.)\n"
     ]
    }
   ],
   "source": [
    "#Identify name entities\n",
    "import numpy\n",
    "from nltk.chunk import ne_chunk\n",
    "entities = ne_chunk(tagged)\n",
    "print(entities)"
   ]
  },
  {
   "cell_type": "code",
   "execution_count": null,
   "id": "written-mirror",
   "metadata": {},
   "outputs": [],
   "source": []
  },
  {
   "cell_type": "code",
   "execution_count": null,
   "id": "central-revolution",
   "metadata": {},
   "outputs": [],
   "source": []
  },
  {
   "cell_type": "code",
   "execution_count": null,
   "id": "promising-amber",
   "metadata": {},
   "outputs": [],
   "source": []
  }
 ],
 "metadata": {
  "kernelspec": {
   "display_name": "Python 3",
   "language": "python",
   "name": "python3"
  },
  "language_info": {
   "codemirror_mode": {
    "name": "ipython",
    "version": 3
   },
   "file_extension": ".py",
   "mimetype": "text/x-python",
   "name": "python",
   "nbconvert_exporter": "python",
   "pygments_lexer": "ipython3",
   "version": "3.8.5"
  }
 },
 "nbformat": 4,
 "nbformat_minor": 5
}
