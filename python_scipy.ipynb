{
 "cells": [
  {
   "cell_type": "code",
   "execution_count": 76,
   "id": "remarkable-california",
   "metadata": {},
   "outputs": [],
   "source": [
    "#SciPy:- SciPy stands for Scientific Python, SciPy is a open-source library that is used for scientific computing, \n",
    "#mathematics, science and engineering, etc.\n"
   ]
  },
  {
   "cell_type": "code",
   "execution_count": 77,
   "id": "human-concert",
   "metadata": {},
   "outputs": [
    {
     "name": "stdout",
     "output_type": "stream",
     "text": [
      "1.6.1\n"
     ]
    }
   ],
   "source": [
    "import scipy\n",
    "print(scipy.__version__)"
   ]
  },
  {
   "cell_type": "code",
   "execution_count": 78,
   "id": "rising-movement",
   "metadata": {},
   "outputs": [],
   "source": [
    "#Constants:- SciPy more focused on scientic computation, it provide various built-in constants that is mainly \n",
    "#used in data science projects."
   ]
  },
  {
   "cell_type": "code",
   "execution_count": 79,
   "id": "latin-metabolism",
   "metadata": {},
   "outputs": [
    {
     "name": "stdout",
     "output_type": "stream",
     "text": [
      "['Avogadro', 'Boltzmann', 'Btu', 'Btu_IT', 'Btu_th', 'ConstantWarning', 'G', 'Julian_year', 'N_A', 'Planck', 'R', 'Rydberg', 'Stefan_Boltzmann', 'Wien', '__all__', '__builtins__', '__cached__', '__doc__', '__file__', '__loader__', '__name__', '__package__', '__path__', '__spec__', '_obsolete_constants', 'acre', 'alpha', 'angstrom', 'arcmin', 'arcminute', 'arcsec', 'arcsecond', 'astronomical_unit', 'atm', 'atmosphere', 'atomic_mass', 'atto', 'au', 'bar', 'barrel', 'bbl', 'blob', 'c', 'calorie', 'calorie_IT', 'calorie_th', 'carat', 'centi', 'codata', 'constants', 'convert_temperature', 'day', 'deci', 'degree', 'degree_Fahrenheit', 'deka', 'dyn', 'dyne', 'e', 'eV', 'electron_mass', 'electron_volt', 'elementary_charge', 'epsilon_0', 'erg', 'exa', 'exbi', 'femto', 'fermi', 'find', 'fine_structure', 'fluid_ounce', 'fluid_ounce_US', 'fluid_ounce_imp', 'foot', 'g', 'gallon', 'gallon_US', 'gallon_imp', 'gas_constant', 'gibi', 'giga', 'golden', 'golden_ratio', 'grain', 'gram', 'gravitational_constant', 'h', 'hbar', 'hectare', 'hecto', 'horsepower', 'hour', 'hp', 'inch', 'k', 'kgf', 'kibi', 'kilo', 'kilogram_force', 'kmh', 'knot', 'lambda2nu', 'lb', 'lbf', 'light_year', 'liter', 'litre', 'long_ton', 'm_e', 'm_n', 'm_p', 'm_u', 'mach', 'mebi', 'mega', 'metric_ton', 'micro', 'micron', 'mil', 'mile', 'milli', 'minute', 'mmHg', 'mph', 'mu_0', 'nano', 'nautical_mile', 'neutron_mass', 'nu2lambda', 'ounce', 'oz', 'parsec', 'pebi', 'peta', 'physical_constants', 'pi', 'pico', 'point', 'pound', 'pound_force', 'precision', 'proton_mass', 'psi', 'pt', 'short_ton', 'sigma', 'slinch', 'slug', 'speed_of_light', 'speed_of_sound', 'stone', 'survey_foot', 'survey_mile', 'tebi', 'tera', 'test', 'ton_TNT', 'torr', 'troy_ounce', 'troy_pound', 'u', 'unit', 'value', 'week', 'yard', 'year', 'yobi', 'yotta', 'zebi', 'zepto', 'zero_Celsius', 'zetta']\n"
     ]
    }
   ],
   "source": [
    "from scipy import constants\n",
    "print(dir(constants))"
   ]
  },
  {
   "cell_type": "code",
   "execution_count": 80,
   "id": "supreme-premiere",
   "metadata": {},
   "outputs": [
    {
     "data": {
      "text/plain": [
       "3.141592653589793"
      ]
     },
     "execution_count": 80,
     "metadata": {},
     "output_type": "execute_result"
    }
   ],
   "source": [
    "constants.pi"
   ]
  },
  {
   "cell_type": "code",
   "execution_count": 81,
   "id": "continuing-knight",
   "metadata": {},
   "outputs": [
    {
     "data": {
      "text/plain": [
       "60.0"
      ]
     },
     "execution_count": 81,
     "metadata": {},
     "output_type": "execute_result"
    }
   ],
   "source": [
    "#Time constants\n",
    "from scipy import constants\n",
    "constants.minute"
   ]
  },
  {
   "cell_type": "code",
   "execution_count": 82,
   "id": "artificial-daisy",
   "metadata": {},
   "outputs": [
    {
     "data": {
      "text/plain": [
       "86400.0"
      ]
     },
     "execution_count": 82,
     "metadata": {},
     "output_type": "execute_result"
    }
   ],
   "source": [
    "constants.day"
   ]
  },
  {
   "cell_type": "code",
   "execution_count": 83,
   "id": "authentic-index",
   "metadata": {},
   "outputs": [
    {
     "data": {
      "text/plain": [
       "31536000.0"
      ]
     },
     "execution_count": 83,
     "metadata": {},
     "output_type": "execute_result"
    }
   ],
   "source": [
    "constants.year"
   ]
  },
  {
   "cell_type": "code",
   "execution_count": 84,
   "id": "fourth-supervision",
   "metadata": {},
   "outputs": [
    {
     "data": {
      "text/plain": [
       "86400.0"
      ]
     },
     "execution_count": 84,
     "metadata": {},
     "output_type": "execute_result"
    }
   ],
   "source": [
    "constants.day\n"
   ]
  },
  {
   "cell_type": "code",
   "execution_count": 85,
   "id": "suspended-paris",
   "metadata": {},
   "outputs": [
    {
     "data": {
      "text/plain": [
       "604800.0"
      ]
     },
     "execution_count": 85,
     "metadata": {},
     "output_type": "execute_result"
    }
   ],
   "source": [
    "constants.week"
   ]
  },
  {
   "cell_type": "code",
   "execution_count": 86,
   "id": "composite-hampshire",
   "metadata": {},
   "outputs": [],
   "source": [
    "#Optimize:- Optimize in Python is the set of procedures define in the SciPy package.\n",
    "#That is basically used to find the value of the function and root of the function."
   ]
  },
  {
   "cell_type": "code",
   "execution_count": 87,
   "id": "approximate-encounter",
   "metadata": {},
   "outputs": [
    {
     "name": "stdout",
     "output_type": "stream",
     "text": [
      "['BFGS', 'Bounds', 'HessianUpdateStrategy', 'LbfgsInvHessProduct', 'LinearConstraint', 'NonlinearConstraint', 'OptimizeResult', 'OptimizeWarning', 'RootResults', 'SR1', '__all__', '__builtins__', '__cached__', '__doc__', '__file__', '__loader__', '__name__', '__nnls', '__package__', '__path__', '__spec__', '_basinhopping', '_bglu_dense', '_cobyla', '_constraints', '_differentiable_functions', '_differentialevolution', '_dual_annealing', '_group_columns', '_hessian_update_strategy', '_highs', '_lbfgsb', '_linprog', '_linprog_doc', '_linprog_highs', '_linprog_ip', '_linprog_rs', '_linprog_simplex', '_linprog_util', '_lsap', '_lsap_module', '_lsq', '_minimize', '_minpack', '_nnls', '_numdiff', '_qap', '_remove_redundancy', '_root', '_root_scalar', '_shgo', '_shgo_lib', '_slsqp', '_spectral', '_trlib', '_trustregion', '_trustregion_constr', '_trustregion_dogleg', '_trustregion_exact', '_trustregion_krylov', '_trustregion_ncg', '_zeros', 'anderson', 'approx_fprime', 'basinhopping', 'bisect', 'bracket', 'brent', 'brenth', 'brentq', 'broyden1', 'broyden2', 'brute', 'check_grad', 'cobyla', 'curve_fit', 'diagbroyden', 'differential_evolution', 'dual_annealing', 'excitingmixing', 'fixed_point', 'fmin', 'fmin_bfgs', 'fmin_cg', 'fmin_cobyla', 'fmin_l_bfgs_b', 'fmin_ncg', 'fmin_powell', 'fmin_slsqp', 'fmin_tnc', 'fminbound', 'fsolve', 'golden', 'lbfgsb', 'least_squares', 'leastsq', 'line_search', 'linear_sum_assignment', 'linearmixing', 'linesearch', 'linprog', 'linprog_verbose_callback', 'lsq_linear', 'minimize', 'minimize_scalar', 'minpack', 'minpack2', 'moduleTNC', 'newton', 'newton_krylov', 'nnls', 'nonlin', 'optimize', 'quadratic_assignment', 'ridder', 'root', 'root_scalar', 'rosen', 'rosen_der', 'rosen_hess', 'rosen_hess_prod', 'shgo', 'show_options', 'slsqp', 'test', 'tnc', 'toms748', 'zeros']\n"
     ]
    }
   ],
   "source": [
    "from scipy import optimize\n",
    "print(dir(optimize))"
   ]
  },
  {
   "cell_type": "code",
   "execution_count": 88,
   "id": "caroline-stake",
   "metadata": {},
   "outputs": [],
   "source": [
    "# Sparse Data:- Sparse data is a data where most of the item values are zero.\n",
    "# Dense Data:- Dense data is a data where most of the item values are not zero.\n",
    "# To work with sparse data, we need to import scipy.sparse module from scipy python library.\n",
    "\n",
    "# Thare are two types of sparse matrix available in scipy.\n",
    "\n",
    "# CSC:- Compressed Sparse Column, It is for efficient column and fast column slicing.\n",
    "# CSR:- Compressed Sparse Rows, For fast row slicing, faster matrix vector products."
   ]
  },
  {
   "cell_type": "code",
   "execution_count": 89,
   "id": "broken-territory",
   "metadata": {},
   "outputs": [
    {
     "name": "stdout",
     "output_type": "stream",
     "text": [
      "['SparseEfficiencyWarning', 'SparseWarning', '__all__', '__builtins__', '__cached__', '__doc__', '__file__', '__loader__', '__name__', '__package__', '__path__', '__spec__', '_csparsetools', '_index', '_matrix_io', '_sparsetools', '_warnings', 'base', 'block_diag', 'bmat', 'bsr', 'bsr_matrix', 'compressed', 'construct', 'coo', 'coo_matrix', 'csc', 'csc_matrix', 'csgraph', 'csr', 'csr_matrix', 'data', 'dia', 'dia_matrix', 'diags', 'dok', 'dok_matrix', 'extract', 'eye', 'find', 'hstack', 'identity', 'issparse', 'isspmatrix', 'isspmatrix_bsr', 'isspmatrix_coo', 'isspmatrix_csc', 'isspmatrix_csr', 'isspmatrix_dia', 'isspmatrix_dok', 'isspmatrix_lil', 'kron', 'kronsum', 'lil', 'lil_matrix', 'linalg', 'load_npz', 'rand', 'random', 'save_npz', 'spdiags', 'spmatrix', 'sputils', 'test', 'tril', 'triu', 'vstack']\n"
     ]
    }
   ],
   "source": [
    "from scipy import sparse\n",
    "print(dir(sparse))\n"
   ]
  },
  {
   "cell_type": "code",
   "execution_count": 90,
   "id": "separated-still",
   "metadata": {},
   "outputs": [
    {
     "name": "stdout",
     "output_type": "stream",
     "text": [
      "[1 0 0 0 2 5 7 0 0 0]\n"
     ]
    }
   ],
   "source": [
    "import numpy as np\n",
    "array = np.array([1, 0, 0, 0, 2, 5, 7, 0, 0, 0])\n",
    "print(array)"
   ]
  },
  {
   "cell_type": "code",
   "execution_count": 91,
   "id": "junior-evanescence",
   "metadata": {},
   "outputs": [
    {
     "name": "stdout",
     "output_type": "stream",
     "text": [
      "  (0, 0)\t1\n",
      "  (0, 4)\t2\n",
      "  (0, 5)\t5\n",
      "  (0, 6)\t7\n"
     ]
    }
   ],
   "source": [
    "#find csr matrix\n",
    "csr_data = sparse.csr_matrix(array)\n",
    "print(csr_data)"
   ]
  },
  {
   "cell_type": "code",
   "execution_count": 92,
   "id": "following-indonesia",
   "metadata": {},
   "outputs": [],
   "source": [
    "# In above example (0, 4) represent the row and position of the item in rows. For example, 0 indicate the row, 4 indicate the \n",
    "# position of 1 in rows. Index always start with 0."
   ]
  },
  {
   "cell_type": "code",
   "execution_count": 93,
   "id": "limited-basics",
   "metadata": {},
   "outputs": [
    {
     "data": {
      "text/plain": [
       "array([1, 2, 5, 7])"
      ]
     },
     "execution_count": 93,
     "metadata": {},
     "output_type": "execute_result"
    }
   ],
   "source": [
    "# Access non zero values by using data property.\n",
    "csr_data.data"
   ]
  },
  {
   "cell_type": "code",
   "execution_count": 94,
   "id": "disturbed-vocabulary",
   "metadata": {},
   "outputs": [
    {
     "data": {
      "text/plain": [
       "4"
      ]
     },
     "execution_count": 94,
     "metadata": {},
     "output_type": "execute_result"
    }
   ],
   "source": [
    "#count non zeros\n",
    "csr_data.count_nonzero()"
   ]
  },
  {
   "cell_type": "code",
   "execution_count": 95,
   "id": "inclusive-wells",
   "metadata": {},
   "outputs": [
    {
     "data": {
      "text/plain": [
       "7"
      ]
     },
     "execution_count": 95,
     "metadata": {},
     "output_type": "execute_result"
    }
   ],
   "source": [
    "# Find the maximum item\n",
    "csr_data.max()"
   ]
  },
  {
   "cell_type": "code",
   "execution_count": 96,
   "id": "conceptual-arena",
   "metadata": {},
   "outputs": [
    {
     "data": {
      "text/plain": [
       "0"
      ]
     },
     "execution_count": 96,
     "metadata": {},
     "output_type": "execute_result"
    }
   ],
   "source": [
    "# Find the minimum item\n",
    "csr_data.min()"
   ]
  },
  {
   "cell_type": "code",
   "execution_count": 97,
   "id": "loving-german",
   "metadata": {},
   "outputs": [
    {
     "data": {
      "text/plain": [
       "1.5"
      ]
     },
     "execution_count": 97,
     "metadata": {},
     "output_type": "execute_result"
    }
   ],
   "source": [
    "#find the mean of the array\n",
    "csr_data.mean()"
   ]
  },
  {
   "cell_type": "code",
   "execution_count": 98,
   "id": "downtown-smart",
   "metadata": {},
   "outputs": [
    {
     "data": {
      "text/plain": [
       "15"
      ]
     },
     "execution_count": 98,
     "metadata": {},
     "output_type": "execute_result"
    }
   ],
   "source": [
    "# Finf the sum of total non zero numbers\n",
    "csr_data.sum()"
   ]
  },
  {
   "cell_type": "code",
   "execution_count": 99,
   "id": "emotional-suite",
   "metadata": {},
   "outputs": [
    {
     "name": "stdout",
     "output_type": "stream",
     "text": [
      "  (0, 0)\t1\n",
      "  (4, 0)\t2\n",
      "  (5, 0)\t5\n",
      "  (6, 0)\t7\n"
     ]
    }
   ],
   "source": [
    "#Find the transpose of the rows by using transpose() method\n",
    "trans = csr_data.transpose()\n",
    "print(trans)"
   ]
  },
  {
   "cell_type": "code",
   "execution_count": 100,
   "id": "american-laptop",
   "metadata": {},
   "outputs": [
    {
     "name": "stdout",
     "output_type": "stream",
     "text": [
      "  (0, 0)\t1.0\n",
      "  (0, 4)\t1.4142135623730951\n",
      "  (0, 5)\t2.23606797749979\n",
      "  (0, 6)\t2.6457513110645907\n"
     ]
    }
   ],
   "source": [
    "#Find the square root of each item of the array\n",
    "my_data = csr_data.sqrt()\n",
    "print(my_data)"
   ]
  },
  {
   "cell_type": "code",
   "execution_count": 101,
   "id": "fifty-intro",
   "metadata": {},
   "outputs": [
    {
     "name": "stdout",
     "output_type": "stream",
     "text": [
      "  (0, 0)\t1\n",
      "  (0, 4)\t16\n",
      "  (0, 5)\t625\n",
      "  (0, 6)\t2401\n"
     ]
    }
   ],
   "source": [
    "# Find the power of each item of the array \n",
    "my_data = csr_data.power(4)\n",
    "print(my_data)"
   ]
  },
  {
   "cell_type": "code",
   "execution_count": 102,
   "id": "cheap-family",
   "metadata": {},
   "outputs": [
    {
     "name": "stdout",
     "output_type": "stream",
     "text": [
      "  (0, 0)\t0.8414709848078965\n",
      "  (0, 4)\t0.9092974268256817\n",
      "  (0, 5)\t-0.9589242746631385\n",
      "  (0, 6)\t0.6569865987187891\n"
     ]
    }
   ],
   "source": [
    "my_data = csr_data.sin()\n",
    "print(my_data)"
   ]
  },
  {
   "cell_type": "code",
   "execution_count": 103,
   "id": "korean-category",
   "metadata": {},
   "outputs": [],
   "source": [
    "# Remove all the zeros from the array\n",
    "csr_data.eliminate_zeros()"
   ]
  },
  {
   "cell_type": "code",
   "execution_count": 104,
   "id": "spare-snapshot",
   "metadata": {},
   "outputs": [
    {
     "name": "stdout",
     "output_type": "stream",
     "text": [
      "  (0, 0)\t1\n",
      "  (0, 4)\t2\n",
      "  (0, 5)\t5\n",
      "  (0, 6)\t7\n"
     ]
    }
   ],
   "source": [
    "print(csr_data)"
   ]
  },
  {
   "cell_type": "code",
   "execution_count": 105,
   "id": "burning-conflict",
   "metadata": {},
   "outputs": [
    {
     "name": "stdout",
     "output_type": "stream",
     "text": [
      "[[0 0 0]\n",
      " [0 0 1]\n",
      " [1 0 2]]\n"
     ]
    }
   ],
   "source": [
    "# Another Array\n",
    "array1 = np.array([[0, 0, 0], [0, 0, 1], [1, 0, 2]])\n",
    "print(array1)"
   ]
  },
  {
   "cell_type": "code",
   "execution_count": 106,
   "id": "specialized-jackson",
   "metadata": {},
   "outputs": [
    {
     "name": "stdout",
     "output_type": "stream",
     "text": [
      "  (1, 2)\t1\n",
      "  (2, 0)\t1\n",
      "  (2, 2)\t2\n"
     ]
    }
   ],
   "source": [
    "# Eliminate all the zeros from the matrix\n",
    "csr_data2 = sparse.csr_matrix(array1)\n",
    "print(csr_data2)"
   ]
  },
  {
   "cell_type": "code",
   "execution_count": 107,
   "id": "referenced-mexican",
   "metadata": {},
   "outputs": [
    {
     "name": "stdout",
     "output_type": "stream",
     "text": [
      "  (2, 0)\t1\n",
      "  (1, 2)\t1\n",
      "  (2, 2)\t2\n"
     ]
    }
   ],
   "source": [
    "# Converting from csr to csc using tocsc() method.\n",
    "csc_data = sparse.csr_matrix(array1).tocsc()\n",
    "print(csc_data)"
   ]
  },
  {
   "cell_type": "code",
   "execution_count": 108,
   "id": "second-pillow",
   "metadata": {},
   "outputs": [
    {
     "data": {
      "text/plain": [
       "(3, 3)"
      ]
     },
     "execution_count": 108,
     "metadata": {},
     "output_type": "execute_result"
    }
   ],
   "source": [
    "# coo_matrix:- coo_matrix stands for coordinate matrix.\n",
    "arr1 = sparse.coo_matrix([[1,2,3], [4,5,6], [7,8,9]]).toarray()\n",
    "#find the shape of the matrix\n",
    "arr1.shape"
   ]
  },
  {
   "cell_type": "code",
   "execution_count": 109,
   "id": "constitutional-access",
   "metadata": {},
   "outputs": [
    {
     "data": {
      "text/plain": [
       "dtype('int64')"
      ]
     },
     "execution_count": 109,
     "metadata": {},
     "output_type": "execute_result"
    }
   ],
   "source": [
    "# find the type of the matrix\n",
    "arr1.dtype"
   ]
  },
  {
   "cell_type": "code",
   "execution_count": 110,
   "id": "descending-frederick",
   "metadata": {},
   "outputs": [
    {
     "data": {
      "text/plain": [
       "array([[1, 2, 3],\n",
       "       [4, 5, 6],\n",
       "       [7, 8, 9]])"
      ]
     },
     "execution_count": 110,
     "metadata": {},
     "output_type": "execute_result"
    }
   ],
   "source": [
    "# Array\n",
    "arr1"
   ]
  },
  {
   "cell_type": "code",
   "execution_count": 111,
   "id": "yellow-hacker",
   "metadata": {},
   "outputs": [],
   "source": [
    "arr2 = sparse.coo_matrix([[4, 5],[7, 8],[10, 11]]).toarray()"
   ]
  },
  {
   "cell_type": "code",
   "execution_count": 112,
   "id": "attended-frost",
   "metadata": {},
   "outputs": [
    {
     "data": {
      "text/plain": [
       "(3, 2)"
      ]
     },
     "execution_count": 112,
     "metadata": {},
     "output_type": "execute_result"
    }
   ],
   "source": [
    "arr2.shape"
   ]
  },
  {
   "cell_type": "code",
   "execution_count": 113,
   "id": "smoking-sterling",
   "metadata": {},
   "outputs": [
    {
     "data": {
      "text/plain": [
       "array([[1, 2, 3, 4],\n",
       "       [3, 4, 5, 6]])"
      ]
     },
     "execution_count": 113,
     "metadata": {},
     "output_type": "execute_result"
    }
   ],
   "source": [
    "from scipy.sparse import coo_matrix, hstack, vstack\n",
    "A = coo_matrix([[1, 2, 3], [3, 4, 5]])\n",
    "B = coo_matrix([[4], [6]])\n",
    "\n",
    "# Stack the sparse data horizontally...\n",
    "hstack([A,B]).toarray()"
   ]
  },
  {
   "cell_type": "code",
   "execution_count": 114,
   "id": "driving-characteristic",
   "metadata": {},
   "outputs": [
    {
     "data": {
      "text/plain": [
       "array([[1, 2],\n",
       "       [3, 4],\n",
       "       [5, 6]])"
      ]
     },
     "execution_count": 114,
     "metadata": {},
     "output_type": "execute_result"
    }
   ],
   "source": [
    "A = coo_matrix([[1, 2], [3, 4]])\n",
    "B = coo_matrix([[5, 6]])\n",
    "\n",
    "# Stack the sparse data vertically...\n",
    "vstack([A, B]).toarray()"
   ]
  },
  {
   "cell_type": "code",
   "execution_count": 115,
   "id": "consolidated-fountain",
   "metadata": {},
   "outputs": [],
   "source": [
    "# Graph\n",
    "from scipy.sparse import csgraph"
   ]
  },
  {
   "cell_type": "code",
   "execution_count": 116,
   "id": "yellow-drink",
   "metadata": {},
   "outputs": [
    {
     "name": "stdout",
     "output_type": "stream",
     "text": [
      "['NegativeCycleError', '__all__', '__builtins__', '__cached__', '__doc__', '__docformat__', '__file__', '__loader__', '__name__', '__package__', '__path__', '__spec__', '_flow', '_laplacian', '_matching', '_min_spanning_tree', '_reordering', '_shortest_path', '_tools', '_traversal', '_validation', 'bellman_ford', 'breadth_first_order', 'breadth_first_tree', 'connected_components', 'construct_dist_matrix', 'csgraph_from_dense', 'csgraph_from_masked', 'csgraph_masked_from_dense', 'csgraph_to_dense', 'csgraph_to_masked', 'depth_first_order', 'depth_first_tree', 'dijkstra', 'floyd_warshall', 'johnson', 'laplacian', 'maximum_bipartite_matching', 'maximum_flow', 'min_weight_full_bipartite_matching', 'minimum_spanning_tree', 'reconstruct_path', 'reverse_cuthill_mckee', 'shortest_path', 'structural_rank', 'test']\n"
     ]
    }
   ],
   "source": [
    "# All the properties and method of the csgraph module\n",
    "print(dir(csgraph))"
   ]
  },
  {
   "cell_type": "code",
   "execution_count": 117,
   "id": "hired-excitement",
   "metadata": {},
   "outputs": [
    {
     "name": "stdout",
     "output_type": "stream",
     "text": [
      "['A', 'B', 'In', 'Out', '_', '_10', '_108', '_109', '_110', '_112', '_113', '_114', '_18', '_19', '_20', '_21', '_22', '_23', '_33', '_34', '_35', '_37', '_38', '_39', '_5', '_6', '_7', '_8', '_80', '_81', '_82', '_83', '_84', '_85', '_9', '_93', '_94', '_95', '_96', '_97', '_98', '__', '___', '__builtin__', '__builtins__', '__doc__', '__loader__', '__name__', '__package__', '__spec__', '_dh', '_i', '_i1', '_i10', '_i100', '_i101', '_i102', '_i103', '_i104', '_i105', '_i106', '_i107', '_i108', '_i109', '_i11', '_i110', '_i111', '_i112', '_i113', '_i114', '_i115', '_i116', '_i117', '_i12', '_i13', '_i14', '_i15', '_i16', '_i17', '_i18', '_i19', '_i2', '_i20', '_i21', '_i22', '_i23', '_i24', '_i25', '_i26', '_i27', '_i28', '_i29', '_i3', '_i30', '_i31', '_i32', '_i33', '_i34', '_i35', '_i36', '_i37', '_i38', '_i39', '_i4', '_i40', '_i41', '_i42', '_i43', '_i44', '_i45', '_i46', '_i47', '_i48', '_i49', '_i5', '_i50', '_i51', '_i52', '_i53', '_i54', '_i55', '_i56', '_i57', '_i58', '_i59', '_i6', '_i60', '_i61', '_i62', '_i63', '_i64', '_i65', '_i66', '_i67', '_i68', '_i69', '_i7', '_i70', '_i71', '_i72', '_i73', '_i74', '_i75', '_i76', '_i77', '_i78', '_i79', '_i8', '_i80', '_i81', '_i82', '_i83', '_i84', '_i85', '_i86', '_i87', '_i88', '_i89', '_i9', '_i90', '_i91', '_i92', '_i93', '_i94', '_i95', '_i96', '_i97', '_i98', '_i99', '_ih', '_ii', '_iii', '_oh', 'arr1', 'arr2', 'array', 'array1', 'constants', 'coo_matrix', 'csc_data', 'csgraph', 'csr_data', 'csr_data2', 'equ', 'exit', 'f', 'get_ipython', 'hstack', 'my_data', 'np', 'optimize', 'quit', 'res', 'root_scalar', 'scaler', 'scipy', 'sin', 'sparse', 'trans', 'value', 'vstack']\n"
     ]
    }
   ],
   "source": [
    "print(dir())"
   ]
  },
  {
   "cell_type": "code",
   "execution_count": 118,
   "id": "inappropriate-terrorist",
   "metadata": {},
   "outputs": [
    {
     "name": "stdout",
     "output_type": "stream",
     "text": [
      "[0.]\n"
     ]
    }
   ],
   "source": [
    "# Root finding\n",
    "from math import sin\n",
    "def equ(x):\n",
    "    return x + sin(x)\n",
    "    \n",
    "value = optimize.root(equ, 90)\n",
    "print(value.x)"
   ]
  },
  {
   "cell_type": "code",
   "execution_count": 119,
   "id": "premier-assessment",
   "metadata": {},
   "outputs": [
    {
     "name": "stdout",
     "output_type": "stream",
     "text": [
      "[ 2. -2.]\n"
     ]
    }
   ],
   "source": [
    "def equ(x):\n",
    "    return x**2 - 4 \n",
    "    \n",
    "value = optimize.root(equ, [2,-2])\n",
    "print(value.x)"
   ]
  },
  {
   "cell_type": "code",
   "execution_count": 120,
   "id": "romantic-disclosure",
   "metadata": {},
   "outputs": [
    {
     "name": "stdout",
     "output_type": "stream",
     "text": [
      "[2. 4.]\n"
     ]
    }
   ],
   "source": [
    "def equ(x):\n",
    "    return 2*x**2 - 12*x + 16\n",
    "    \n",
    "value = optimize.root(equ, [2, 6])\n",
    "print(value.x)"
   ]
  },
  {
   "cell_type": "code",
   "execution_count": 121,
   "id": "engaged-links",
   "metadata": {},
   "outputs": [],
   "source": [
    "# minimize_scalar is used to minimize a function of one variable and many variables.\n",
    "def scaler(x):\n",
    "    return 3 * x ** 4 - 2 * x + 1"
   ]
  },
  {
   "cell_type": "code",
   "execution_count": 122,
   "id": "innocent-moral",
   "metadata": {},
   "outputs": [
    {
     "name": "stdout",
     "output_type": "stream",
     "text": [
      "0.5503212087491959\n"
     ]
    }
   ],
   "source": [
    "res = optimize.minimize_scalar(scaler)\n",
    "print(res.x)"
   ]
  },
  {
   "cell_type": "code",
   "execution_count": 133,
   "id": "overhead-spyware",
   "metadata": {},
   "outputs": [],
   "source": [
    "#root_scalar():- This function is used to fir a function to the set of the data.\n",
    "from scipy import optimize"
   ]
  },
  {
   "cell_type": "code",
   "execution_count": 154,
   "id": "freelance-council",
   "metadata": {},
   "outputs": [
    {
     "name": "stdout",
     "output_type": "stream",
     "text": [
      "10\n"
     ]
    }
   ],
   "source": [
    "def f(x):\n",
    "    return (x ** 2 - 1)\n",
    "result = optimize.root_scalar(f, bracket=[2,0], method='brentq')\n",
    "print(result.function_calls)"
   ]
  },
  {
   "cell_type": "code",
   "execution_count": null,
   "id": "sized-cosmetic",
   "metadata": {},
   "outputs": [],
   "source": []
  },
  {
   "cell_type": "code",
   "execution_count": null,
   "id": "grand-donna",
   "metadata": {},
   "outputs": [],
   "source": []
  },
  {
   "cell_type": "code",
   "execution_count": null,
   "id": "parental-hypothetical",
   "metadata": {},
   "outputs": [],
   "source": []
  }
 ],
 "metadata": {
  "kernelspec": {
   "display_name": "Python 3",
   "language": "python",
   "name": "python3"
  },
  "language_info": {
   "codemirror_mode": {
    "name": "ipython",
    "version": 3
   },
   "file_extension": ".py",
   "mimetype": "text/x-python",
   "name": "python",
   "nbconvert_exporter": "python",
   "pygments_lexer": "ipython3",
   "version": "3.8.5"
  }
 },
 "nbformat": 4,
 "nbformat_minor": 5
}
